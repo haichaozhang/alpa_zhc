{
 "cells": [
  {
   "cell_type": "code",
   "execution_count": 5,
   "metadata": {},
   "outputs": [],
   "source": [
    "import numpy as np\n",
    "from typing import Iterable, Dict, Sequence, Any, Union, List\n",
    "x = [\n",
    "    [0,0, 1, 1],\n",
    "    [0,2, 1, 3],\n",
    "    [1,0, 3,3]\n",
    "]"
   ]
  },
  {
   "cell_type": "code",
   "execution_count": 7,
   "metadata": {},
   "outputs": [],
   "source": [
    "col, row = [4,4]\n",
    "def check_submesh_is_valid(virtual_mesh_shape: Sequence[int], \n",
    "                           submeshes: Sequence[Sequence[int]]):\n",
    "    rows, cols = virtual_mesh_shape\n",
    "    np_array = np.array(submeshes)\n",
    "    left, top, right, bottom = np_array[:,0], np_array[:,1], np_array[:,2], np_array[:,3]\n",
    "    # 1. 越界判断\n",
    "    is_out_of_bounds = np.any(\n",
    "                            np.bitwise_or(\n",
    "                                np.bitwise_or(left<0 , top<0), \n",
    "                                np.bitwise_or(right>=cols, bottom>=rows)\n",
    "                            )\n",
    "                        )\n",
    "    if is_out_of_bounds:\n",
    "        raise OutOfBoundsError\n",
    "    # 2. 重叠判断\n",
    "    def overlap (rect, np_arr):\n",
    "        xy_max = np.minimum(np_arr[:, 2:], rect[2:])\n",
    "        xy_min = np.maximum(np_arr[:, :2], rect[:2])\n",
    "        inter = np.clip(xy_max-xy_min+1, a_min=0, a_max=np.inf)\n",
    "        inter = inter[:, 0]*inter[:, 1]\n",
    "        if np.any(inter > 0):\n",
    "            return True\n",
    "        else:\n",
    "            return False\n",
    "    for i in range(np_array.shape[0]):\n",
    "        if overlap(np_array[i,:], np_array[i+1:,:]):\n",
    "            raise OverLapError\n",
    "    return True\n",
    "\n",
    "\n",
    "class OutOfBoundsError(Exception):\n",
    "    pass \n",
    "\n",
    "class OverLapError(Exception):\n",
    "    pass "
   ]
  },
  {
   "cell_type": "code",
   "execution_count": 8,
   "metadata": {},
   "outputs": [
    {
     "ename": "OverLapError",
     "evalue": "",
     "output_type": "error",
     "traceback": [
      "\u001b[0;31m---------------------------------------------------------------------------\u001b[0m",
      "\u001b[0;31mOverLapError\u001b[0m                              Traceback (most recent call last)",
      "\u001b[1;32m/code/alpa/alpa/test.ipynb Cell 3\u001b[0m in \u001b[0;36m<cell line: 1>\u001b[0;34m()\u001b[0m\n\u001b[0;32m----> <a href='vscode-notebook-cell://ssh-remote%2B189_docker_alpa/code/alpa/alpa/test.ipynb#W2sdnNjb2RlLXJlbW90ZQ%3D%3D?line=0'>1</a>\u001b[0m check_submesh_is_valid([\u001b[39m4\u001b[39;49m,\u001b[39m4\u001b[39;49m], x)\n",
      "\u001b[1;32m/code/alpa/alpa/test.ipynb Cell 3\u001b[0m in \u001b[0;36mcheck_submesh_is_valid\u001b[0;34m(virtual_mesh_shape, submeshes)\u001b[0m\n\u001b[1;32m     <a href='vscode-notebook-cell://ssh-remote%2B189_docker_alpa/code/alpa/alpa/test.ipynb#W2sdnNjb2RlLXJlbW90ZQ%3D%3D?line=25'>26</a>\u001b[0m \u001b[39mfor\u001b[39;00m i \u001b[39min\u001b[39;00m \u001b[39mrange\u001b[39m(np_array\u001b[39m.\u001b[39mshape[\u001b[39m0\u001b[39m]):\n\u001b[1;32m     <a href='vscode-notebook-cell://ssh-remote%2B189_docker_alpa/code/alpa/alpa/test.ipynb#W2sdnNjb2RlLXJlbW90ZQ%3D%3D?line=26'>27</a>\u001b[0m     \u001b[39mif\u001b[39;00m overlap(np_array[i,:], np_array[i\u001b[39m+\u001b[39m\u001b[39m1\u001b[39m:,:]):\n\u001b[0;32m---> <a href='vscode-notebook-cell://ssh-remote%2B189_docker_alpa/code/alpa/alpa/test.ipynb#W2sdnNjb2RlLXJlbW90ZQ%3D%3D?line=27'>28</a>\u001b[0m         \u001b[39mraise\u001b[39;00m OverLapError\n\u001b[1;32m     <a href='vscode-notebook-cell://ssh-remote%2B189_docker_alpa/code/alpa/alpa/test.ipynb#W2sdnNjb2RlLXJlbW90ZQ%3D%3D?line=28'>29</a>\u001b[0m \u001b[39mreturn\u001b[39;00m \u001b[39mTrue\u001b[39;00m\n",
      "\u001b[0;31mOverLapError\u001b[0m: "
     ]
    }
   ],
   "source": [
    "check_submesh_is_valid([4,4], x)"
   ]
  },
  {
   "cell_type": "code",
   "execution_count": 11,
   "metadata": {},
   "outputs": [
    {
     "ename": "TypeError",
     "evalue": "list indices must be integers or slices, not tuple",
     "output_type": "error",
     "traceback": [
      "\u001b[0;31m---------------------------------------------------------------------------\u001b[0m",
      "\u001b[0;31mTypeError\u001b[0m                                 Traceback (most recent call last)",
      "\u001b[1;32m/code/alpa/alpa/test.ipynb Cell 4\u001b[0m in \u001b[0;36m<cell line: 4>\u001b[0;34m()\u001b[0m\n\u001b[1;32m      <a href='vscode-notebook-cell://ssh-remote%2B189_docker_alpa/code/alpa/alpa/test.ipynb#W3sdnNjb2RlLXJlbW90ZQ%3D%3D?line=1'>2</a>\u001b[0m np_arr \u001b[39m=\u001b[39m x\n\u001b[1;32m      <a href='vscode-notebook-cell://ssh-remote%2B189_docker_alpa/code/alpa/alpa/test.ipynb#W3sdnNjb2RlLXJlbW90ZQ%3D%3D?line=2'>3</a>\u001b[0m np_arr\n\u001b[0;32m----> <a href='vscode-notebook-cell://ssh-remote%2B189_docker_alpa/code/alpa/alpa/test.ipynb#W3sdnNjb2RlLXJlbW90ZQ%3D%3D?line=3'>4</a>\u001b[0m np\u001b[39m.\u001b[39mminimum(np_arr[:, \u001b[39m2\u001b[39;49m:], rect[\u001b[39m2\u001b[39m:])\n",
      "\u001b[0;31mTypeError\u001b[0m: list indices must be integers or slices, not tuple"
     ]
    }
   ],
   "source": [
    "rect = [0,0, 1, 1]\n",
    "np_arr = x\n",
    "np_arr\n",
    "np.minimum(np_arr[:, 2:], rect[2:])"
   ]
  },
  {
   "cell_type": "code",
   "execution_count": 10,
   "metadata": {},
   "outputs": [],
   "source": [
    "from dataclasses import dataclass\n",
    "@dataclass\n",
    "class WSCManualStageOption:\n",
    "    \"\"\"Options of manual stage assignment for WSC.\"\"\"\n",
    "    # Layer IDs of each forward stage.\n",
    "    forward_stage_layer_ids: Sequence[Sequence[int]]\n",
    "    # submeshes of each stage, 使用坐标，[[左,上,右,下]]\n",
    "    submeshes: Sequence[Sequence[int]]\n",
    "    # The physical shapes of submeshes of each stage. 不需设置，从submeshes获取即可\n",
    "    submesh_physical_shapes: Sequence[Sequence[int]]\n",
    "    # The logical shapes of submeshes of each stage. 暂时可以不设置\n",
    "    submesh_logical_shapes: Sequence[Sequence[int]]\n",
    "    # The auto-sharding options of each stage.\n",
    "    submesh_autosharding_option_dicts: Sequence[dict]"
   ]
  },
  {
   "cell_type": "code",
   "execution_count": 12,
   "metadata": {},
   "outputs": [
    {
     "data": {
      "text/plain": [
       "WSCManualStageOption(forward_stage_layer_ids=[[0], [1]], submeshes=[[[0, 1], [1, 1]]], submesh_physical_shapes=None, submesh_logical_shapes=None, submesh_autosharding_option_dicts=[{}, {}])"
      ]
     },
     "execution_count": 12,
     "metadata": {},
     "output_type": "execute_result"
    }
   ],
   "source": [
    "WSCManualStageOption(forward_stage_layer_ids=[[0], [1]], \n",
    "                                                       submeshes=[\n",
    "                                                                    [[0, 1], [1, 1]]\n",
    "                                                                ], \n",
    "                                                        submesh_physical_shapes=None,\n",
    "                                                       submesh_logical_shapes=None, \n",
    "                                                       submesh_autosharding_option_dicts=[{}, {}])"
   ]
  },
  {
   "cell_type": "code",
   "execution_count": 20,
   "metadata": {},
   "outputs": [
    {
     "data": {
      "text/plain": [
       "False"
      ]
     },
     "execution_count": 20,
     "metadata": {},
     "output_type": "execute_result"
    }
   ],
   "source": [
    "np.any( b2)"
   ]
  }
 ],
 "metadata": {
  "kernelspec": {
   "display_name": "python3.9-env",
   "language": "python",
   "name": "python3"
  },
  "language_info": {
   "codemirror_mode": {
    "name": "ipython",
    "version": 3
   },
   "file_extension": ".py",
   "mimetype": "text/x-python",
   "name": "python",
   "nbconvert_exporter": "python",
   "pygments_lexer": "ipython3",
   "version": "3.9.4"
  },
  "orig_nbformat": 4
 },
 "nbformat": 4,
 "nbformat_minor": 2
}
